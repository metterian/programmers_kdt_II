{
 "cells": [
  {
   "cell_type": "markdown",
   "metadata": {},
   "source": [
    "# [3주차 - Day5] Weekly Mission\n",
    "\n",
    "## Mission 1. Netfilx and Code"
   ]
  },
  {
   "cell_type": "markdown",
   "metadata": {},
   "source": [
    "### Data Loads"
   ]
  },
  {
   "cell_type": "code",
   "execution_count": 8,
   "metadata": {},
   "outputs": [
    {
     "name": "stdout",
     "output_type": "stream",
     "text": [
      "Warning: Your Kaggle API key is readable by other users on this system! To fix this, you can run 'chmod 600 /Users/seungjun/.kaggle/kaggle.json'\n",
      "Downloading netflix-shows.zip to /Users/seungjun/Study/promgrammers/week3/day5\n",
      " 85%|████████████████████████████████▏     | 1.00M/1.18M [00:00<00:00, 10.2MB/s]\n",
      "100%|██████████████████████████████████████| 1.18M/1.18M [00:00<00:00, 10.4MB/s]\n"
     ]
    }
   ],
   "source": [
    "!kaggle datasets download -d shivamb/netflix-shows"
   ]
  },
  {
   "cell_type": "code",
   "execution_count": 12,
   "metadata": {},
   "outputs": [
    {
     "name": "stdout",
     "output_type": "stream",
     "text": [
      "Archive:  netflix-shows.zip\n",
      "  inflating: ./data/netflix_titles.csv  \n"
     ]
    }
   ],
   "source": [
    "!unzip -o 'netflix-shows.zip' -d './data/'"
   ]
  },
  {
   "cell_type": "markdown",
   "metadata": {},
   "source": [
    "### Libary Load"
   ]
  },
  {
   "cell_type": "code",
   "execution_count": 3,
   "metadata": {},
   "outputs": [],
   "source": [
    "import pandas as pd\n",
    "import seaborn as sns\n",
    "from matplotlib import pyplot as plt"
   ]
  },
  {
   "cell_type": "markdown",
   "metadata": {},
   "source": [
    " "
   ]
  },
  {
   "cell_type": "markdown",
   "metadata": {},
   "source": [
    "### 한국 작품은 총 얼마나 있는가?"
   ]
  },
  {
   "cell_type": "code",
   "execution_count": 13,
   "metadata": {},
   "outputs": [
    {
     "data": {
      "text/html": [
       "<div>\n",
       "<style scoped>\n",
       "    .dataframe tbody tr th:only-of-type {\n",
       "        vertical-align: middle;\n",
       "    }\n",
       "\n",
       "    .dataframe tbody tr th {\n",
       "        vertical-align: top;\n",
       "    }\n",
       "\n",
       "    .dataframe thead th {\n",
       "        text-align: right;\n",
       "    }\n",
       "</style>\n",
       "<table border=\"1\" class=\"dataframe\">\n",
       "  <thead>\n",
       "    <tr style=\"text-align: right;\">\n",
       "      <th></th>\n",
       "      <th>show_id</th>\n",
       "      <th>type</th>\n",
       "      <th>title</th>\n",
       "      <th>director</th>\n",
       "      <th>cast</th>\n",
       "      <th>country</th>\n",
       "      <th>date_added</th>\n",
       "      <th>release_year</th>\n",
       "      <th>rating</th>\n",
       "      <th>duration</th>\n",
       "      <th>listed_in</th>\n",
       "      <th>description</th>\n",
       "    </tr>\n",
       "  </thead>\n",
       "  <tbody>\n",
       "    <tr>\n",
       "      <th>0</th>\n",
       "      <td>s1</td>\n",
       "      <td>TV Show</td>\n",
       "      <td>3%</td>\n",
       "      <td>NaN</td>\n",
       "      <td>João Miguel, Bianca Comparato, Michel Gomes, R...</td>\n",
       "      <td>Brazil</td>\n",
       "      <td>August 14, 2020</td>\n",
       "      <td>2020</td>\n",
       "      <td>TV-MA</td>\n",
       "      <td>4 Seasons</td>\n",
       "      <td>International TV Shows, TV Dramas, TV Sci-Fi &amp;...</td>\n",
       "      <td>In a future where the elite inhabit an island ...</td>\n",
       "    </tr>\n",
       "    <tr>\n",
       "      <th>1</th>\n",
       "      <td>s2</td>\n",
       "      <td>Movie</td>\n",
       "      <td>7:19</td>\n",
       "      <td>Jorge Michel Grau</td>\n",
       "      <td>Demián Bichir, Héctor Bonilla, Oscar Serrano, ...</td>\n",
       "      <td>Mexico</td>\n",
       "      <td>December 23, 2016</td>\n",
       "      <td>2016</td>\n",
       "      <td>TV-MA</td>\n",
       "      <td>93 min</td>\n",
       "      <td>Dramas, International Movies</td>\n",
       "      <td>After a devastating earthquake hits Mexico Cit...</td>\n",
       "    </tr>\n",
       "    <tr>\n",
       "      <th>2</th>\n",
       "      <td>s3</td>\n",
       "      <td>Movie</td>\n",
       "      <td>23:59</td>\n",
       "      <td>Gilbert Chan</td>\n",
       "      <td>Tedd Chan, Stella Chung, Henley Hii, Lawrence ...</td>\n",
       "      <td>Singapore</td>\n",
       "      <td>December 20, 2018</td>\n",
       "      <td>2011</td>\n",
       "      <td>R</td>\n",
       "      <td>78 min</td>\n",
       "      <td>Horror Movies, International Movies</td>\n",
       "      <td>When an army recruit is found dead, his fellow...</td>\n",
       "    </tr>\n",
       "  </tbody>\n",
       "</table>\n",
       "</div>"
      ],
      "text/plain": [
       "  show_id     type  title           director  \\\n",
       "0      s1  TV Show     3%                NaN   \n",
       "1      s2    Movie   7:19  Jorge Michel Grau   \n",
       "2      s3    Movie  23:59       Gilbert Chan   \n",
       "\n",
       "                                                cast    country  \\\n",
       "0  João Miguel, Bianca Comparato, Michel Gomes, R...     Brazil   \n",
       "1  Demián Bichir, Héctor Bonilla, Oscar Serrano, ...     Mexico   \n",
       "2  Tedd Chan, Stella Chung, Henley Hii, Lawrence ...  Singapore   \n",
       "\n",
       "          date_added  release_year rating   duration  \\\n",
       "0    August 14, 2020          2020  TV-MA  4 Seasons   \n",
       "1  December 23, 2016          2016  TV-MA     93 min   \n",
       "2  December 20, 2018          2011      R     78 min   \n",
       "\n",
       "                                           listed_in  \\\n",
       "0  International TV Shows, TV Dramas, TV Sci-Fi &...   \n",
       "1                       Dramas, International Movies   \n",
       "2                Horror Movies, International Movies   \n",
       "\n",
       "                                         description  \n",
       "0  In a future where the elite inhabit an island ...  \n",
       "1  After a devastating earthquake hits Mexico Cit...  \n",
       "2  When an army recruit is found dead, his fellow...  "
      ]
     },
     "execution_count": 13,
     "metadata": {},
     "output_type": "execute_result"
    }
   ],
   "source": [
    "df = pd.read_csv('data/netflix_titles.csv')\n",
    "df.head(3)"
   ]
  },
  {
   "cell_type": "code",
   "execution_count": 18,
   "metadata": {},
   "outputs": [
    {
     "data": {
      "text/plain": [
       "show_id         183\n",
       "type            183\n",
       "title           183\n",
       "director         44\n",
       "cast            180\n",
       "country         183\n",
       "date_added      183\n",
       "release_year    183\n",
       "rating          183\n",
       "duration        183\n",
       "listed_in       183\n",
       "description     183\n",
       "dtype: int64"
      ]
     },
     "execution_count": 18,
     "metadata": {},
     "output_type": "execute_result"
    }
   ],
   "source": [
    "df[df.country=='South Korea'].count()"
   ]
  },
  {
   "cell_type": "markdown",
   "metadata": {},
   "source": [
    " "
   ]
  },
  {
   "cell_type": "markdown",
   "metadata": {},
   "source": [
    "### 가장 많은 작품이 올라간 국가는 어디이고, 얼마나 많은 작품이 있는가?\n",
    "- country column을 기준으로 한다.\n",
    "- 단일 국가인 경우를 기준으로 결과를 구해보자."
   ]
  },
  {
   "cell_type": "code",
   "execution_count": 27,
   "metadata": {},
   "outputs": [
    {
     "data": {
      "text/html": [
       "<div>\n",
       "<style scoped>\n",
       "    .dataframe tbody tr th:only-of-type {\n",
       "        vertical-align: middle;\n",
       "    }\n",
       "\n",
       "    .dataframe tbody tr th {\n",
       "        vertical-align: top;\n",
       "    }\n",
       "\n",
       "    .dataframe thead th {\n",
       "        text-align: right;\n",
       "    }\n",
       "</style>\n",
       "<table border=\"1\" class=\"dataframe\">\n",
       "  <thead>\n",
       "    <tr style=\"text-align: right;\">\n",
       "      <th></th>\n",
       "      <th>show_id</th>\n",
       "      <th>type</th>\n",
       "      <th>title</th>\n",
       "      <th>director</th>\n",
       "      <th>cast</th>\n",
       "      <th>date_added</th>\n",
       "      <th>release_year</th>\n",
       "      <th>rating</th>\n",
       "      <th>duration</th>\n",
       "      <th>listed_in</th>\n",
       "      <th>description</th>\n",
       "    </tr>\n",
       "    <tr>\n",
       "      <th>country</th>\n",
       "      <th></th>\n",
       "      <th></th>\n",
       "      <th></th>\n",
       "      <th></th>\n",
       "      <th></th>\n",
       "      <th></th>\n",
       "      <th></th>\n",
       "      <th></th>\n",
       "      <th></th>\n",
       "      <th></th>\n",
       "      <th></th>\n",
       "    </tr>\n",
       "  </thead>\n",
       "  <tbody>\n",
       "    <tr>\n",
       "      <th>United States</th>\n",
       "      <td>2555</td>\n",
       "      <td>2555</td>\n",
       "      <td>2555</td>\n",
       "      <td>1838</td>\n",
       "      <td>2251</td>\n",
       "      <td>2549</td>\n",
       "      <td>2555</td>\n",
       "      <td>2552</td>\n",
       "      <td>2555</td>\n",
       "      <td>2555</td>\n",
       "      <td>2555</td>\n",
       "    </tr>\n",
       "    <tr>\n",
       "      <th>India</th>\n",
       "      <td>923</td>\n",
       "      <td>923</td>\n",
       "      <td>923</td>\n",
       "      <td>848</td>\n",
       "      <td>894</td>\n",
       "      <td>923</td>\n",
       "      <td>923</td>\n",
       "      <td>923</td>\n",
       "      <td>923</td>\n",
       "      <td>923</td>\n",
       "      <td>923</td>\n",
       "    </tr>\n",
       "    <tr>\n",
       "      <th>United Kingdom</th>\n",
       "      <td>397</td>\n",
       "      <td>397</td>\n",
       "      <td>397</td>\n",
       "      <td>201</td>\n",
       "      <td>332</td>\n",
       "      <td>396</td>\n",
       "      <td>397</td>\n",
       "      <td>397</td>\n",
       "      <td>397</td>\n",
       "      <td>397</td>\n",
       "      <td>397</td>\n",
       "    </tr>\n",
       "    <tr>\n",
       "      <th>Japan</th>\n",
       "      <td>226</td>\n",
       "      <td>226</td>\n",
       "      <td>226</td>\n",
       "      <td>78</td>\n",
       "      <td>222</td>\n",
       "      <td>225</td>\n",
       "      <td>226</td>\n",
       "      <td>225</td>\n",
       "      <td>226</td>\n",
       "      <td>226</td>\n",
       "      <td>226</td>\n",
       "    </tr>\n",
       "    <tr>\n",
       "      <th>South Korea</th>\n",
       "      <td>183</td>\n",
       "      <td>183</td>\n",
       "      <td>183</td>\n",
       "      <td>44</td>\n",
       "      <td>180</td>\n",
       "      <td>183</td>\n",
       "      <td>183</td>\n",
       "      <td>183</td>\n",
       "      <td>183</td>\n",
       "      <td>183</td>\n",
       "      <td>183</td>\n",
       "    </tr>\n",
       "  </tbody>\n",
       "</table>\n",
       "</div>"
      ],
      "text/plain": [
       "                show_id  type  title  director  cast  date_added  \\\n",
       "country                                                            \n",
       "United States      2555  2555   2555      1838  2251        2549   \n",
       "India               923   923    923       848   894         923   \n",
       "United Kingdom      397   397    397       201   332         396   \n",
       "Japan               226   226    226        78   222         225   \n",
       "South Korea         183   183    183        44   180         183   \n",
       "\n",
       "                release_year  rating  duration  listed_in  description  \n",
       "country                                                                 \n",
       "United States           2555    2552      2555       2555         2555  \n",
       "India                    923     923       923        923          923  \n",
       "United Kingdom           397     397       397        397          397  \n",
       "Japan                    226     225       226        226          226  \n",
       "South Korea              183     183       183        183          183  "
      ]
     },
     "execution_count": 27,
     "metadata": {},
     "output_type": "execute_result"
    }
   ],
   "source": [
    "df.groupby('country').count().sort_values(by='show_id', ascending=False).head(5)"
   ]
  },
  {
   "cell_type": "markdown",
   "metadata": {},
   "source": [
    " "
   ]
  },
  {
   "cell_type": "markdown",
   "metadata": {},
   "source": [
    " "
   ]
  },
  {
   "cell_type": "markdown",
   "metadata": {},
   "source": [
    "## Mission 2. 가즈아\n",
    "서울의 소시민 나일론 마스크는 요즘 가상화폐에 푹 빠져있다. 매일매일 극락과 지옥을 오가는 매운맛에 정신을 못 차리고 있는데, 그의 친구인 호주니는 그에게 정신차리게 하기 위해 비트코인 광풍이 일었던 2017년 한 해의 가격의 변화를 보여주려고 한다. 그런데 매일매일의 데이터를 보여주는 것보다 이것의 추세를 표현해주면 좋겠다는 생각이 들어 Moving Average(이동평균법) 를 도입하고자 한다. 호주니를 도와 마스크씨를 설득해보자."
   ]
  },
  {
   "cell_type": "markdown",
   "metadata": {},
   "source": [
    "### Mandatory Part\n",
    "#### 다음 데이터가 주어졌을 때 2016.6 ~ 2017.6 기간의 5-MA(Moving Average) 비트코인 가격 그래프를 그려주세요.\n",
    "\n",
    "- 선의 색깔은 노란색(#f2a900) 으로 해야합니다.\n",
    "- x-axis label과 y-axis label은 적절한 텍스트로 추가되어야 합니다.\n",
    "- 이동평균의 기준은 Open Column으로 계산합니다.\n",
    "- 이외에도 그래프를 알아보기 쉽게 하기 위한 정보(Text, Facet 등)을 추가하는 것도 좋습니다.\n",
    "\n",
    "\n",
    "💡 이동평균(Moving Average)법은 시계열 데이터를 표현하는 데에 많이 사용하는 방법 중 하나입니다."
   ]
  },
  {
   "cell_type": "code",
   "execution_count": 120,
   "metadata": {},
   "outputs": [
    {
     "data": {
      "text/html": [
       "<div>\n",
       "<style scoped>\n",
       "    .dataframe tbody tr th:only-of-type {\n",
       "        vertical-align: middle;\n",
       "    }\n",
       "\n",
       "    .dataframe tbody tr th {\n",
       "        vertical-align: top;\n",
       "    }\n",
       "\n",
       "    .dataframe thead th {\n",
       "        text-align: right;\n",
       "    }\n",
       "</style>\n",
       "<table border=\"1\" class=\"dataframe\">\n",
       "  <thead>\n",
       "    <tr style=\"text-align: right;\">\n",
       "      <th></th>\n",
       "      <th>Open</th>\n",
       "      <th>High</th>\n",
       "      <th>Low</th>\n",
       "      <th>Close</th>\n",
       "      <th>Volume</th>\n",
       "      <th>Market Cap</th>\n",
       "    </tr>\n",
       "    <tr>\n",
       "      <th>Date</th>\n",
       "      <th></th>\n",
       "      <th></th>\n",
       "      <th></th>\n",
       "      <th></th>\n",
       "      <th></th>\n",
       "      <th></th>\n",
       "    </tr>\n",
       "  </thead>\n",
       "  <tbody>\n",
       "    <tr>\n",
       "      <th>2013-01-05</th>\n",
       "      <td>139.00</td>\n",
       "      <td>139.89</td>\n",
       "      <td>107.72</td>\n",
       "      <td>116.99</td>\n",
       "      <td>8026718.801</td>\n",
       "      <td>1542820000</td>\n",
       "    </tr>\n",
       "    <tr>\n",
       "      <th>2013-01-06</th>\n",
       "      <td>128.81</td>\n",
       "      <td>129.78</td>\n",
       "      <td>127.20</td>\n",
       "      <td>129.30</td>\n",
       "      <td>7521959.816</td>\n",
       "      <td>1445800000</td>\n",
       "    </tr>\n",
       "    <tr>\n",
       "      <th>2013-01-07</th>\n",
       "      <td>97.51</td>\n",
       "      <td>97.66</td>\n",
       "      <td>86.30</td>\n",
       "      <td>88.05</td>\n",
       "      <td>5759985.732</td>\n",
       "      <td>1107130000</td>\n",
       "    </tr>\n",
       "  </tbody>\n",
       "</table>\n",
       "</div>"
      ],
      "text/plain": [
       "              Open    High     Low   Close       Volume  Market Cap\n",
       "Date                                                               \n",
       "2013-01-05  139.00  139.89  107.72  116.99  8026718.801  1542820000\n",
       "2013-01-06  128.81  129.78  127.20  129.30  7521959.816  1445800000\n",
       "2013-01-07   97.51   97.66   86.30   88.05  5759985.732  1107130000"
      ]
     },
     "execution_count": 120,
     "metadata": {},
     "output_type": "execute_result"
    }
   ],
   "source": [
    "bit = pd.read_csv('data/BitCoin.csv',parse_dates=['Date'], index_col='Date').drop('Unnamed: 0', axis=1)\n",
    "bit = bit.sort_index()\n",
    "bit.head(3)"
   ]
  },
  {
   "cell_type": "code",
   "execution_count": 121,
   "metadata": {},
   "outputs": [
    {
     "data": {
      "text/plain": [
       "DatetimeIndex(['2013-01-05', '2013-01-06', '2013-01-07', '2013-01-08',\n",
       "               '2013-01-09', '2013-01-10', '2013-01-11', '2013-01-12',\n",
       "               '2013-02-05', '2013-02-06',\n",
       "               ...\n",
       "               '2017-11-09', '2017-12-01', '2017-12-02', '2017-12-03',\n",
       "               '2017-12-04', '2017-12-05', '2017-12-06', '2017-12-07',\n",
       "               '2017-12-08', '2017-12-09'],\n",
       "              dtype='datetime64[ns]', name='Date', length=1609, freq=None)"
      ]
     },
     "execution_count": 121,
     "metadata": {},
     "output_type": "execute_result"
    }
   ],
   "source": [
    "bit.index"
   ]
  },
  {
   "cell_type": "code",
   "execution_count": 123,
   "metadata": {},
   "outputs": [
    {
     "data": {
      "image/png": "[encoded data removed]",
      "text/plain": [
       "<Figure size 864x576 with 1 Axes>"
      ]
     },
     "metadata": {
      "needs_background": "light"
     },
     "output_type": "display_data"
    }
   ],
   "source": [
    "bit.loc['2016/06/01': '2017/06/30'].Open.rolling(5).mean().plot(xlabel='Dates',\n",
    "                                                                ylabel='currency',\n",
    "                                                                figsize=(12,8), \n",
    "                                                                color='#f2a900');"
   ]
  },
  {
   "cell_type": "markdown",
   "metadata": {},
   "source": [
    "### Bonus Part\n",
    "위에 주어진 데이터와 더불어 다음 데이터도 주어졌을 때, 2016.6 ~ 2017.6 기간에 해당하는 비트코인의 5-MA 그래프와 이더리움의 5-MA 그래프를 동시에 그려주세요.\n",
    "\n",
    "- 선의 색깔은 비트코인 : 노란색(#f2a900), 이더리움 : 검은색(#3c3c3d) 으로 해야합니다.\n",
    "- x-axis label과 y-axis label은 적절한 텍스트로 추가되어야 합니다.\n",
    "- 이동평균의 기준은 Open Column으로 계산합니다.\n",
    "- 이외에도 그래프를 알아보기 쉽게 하기 위한 정보(Text, Facet 등)을 추가하는 것도 좋습니다."
   ]
  },
  {
   "cell_type": "code",
   "execution_count": 114,
   "metadata": {},
   "outputs": [
    {
     "data": {
      "text/html": [
       "<div>\n",
       "<style scoped>\n",
       "    .dataframe tbody tr th:only-of-type {\n",
       "        vertical-align: middle;\n",
       "    }\n",
       "\n",
       "    .dataframe tbody tr th {\n",
       "        vertical-align: top;\n",
       "    }\n",
       "\n",
       "    .dataframe thead th {\n",
       "        text-align: right;\n",
       "    }\n",
       "</style>\n",
       "<table border=\"1\" class=\"dataframe\">\n",
       "  <thead>\n",
       "    <tr style=\"text-align: right;\">\n",
       "      <th></th>\n",
       "      <th>Symbol</th>\n",
       "      <th>Open</th>\n",
       "      <th>High</th>\n",
       "      <th>Low</th>\n",
       "      <th>Close</th>\n",
       "      <th>Volume ETH</th>\n",
       "      <th>Volume USD</th>\n",
       "    </tr>\n",
       "    <tr>\n",
       "      <th>Date</th>\n",
       "      <th></th>\n",
       "      <th></th>\n",
       "      <th></th>\n",
       "      <th></th>\n",
       "      <th></th>\n",
       "      <th></th>\n",
       "      <th></th>\n",
       "    </tr>\n",
       "  </thead>\n",
       "  <tbody>\n",
       "    <tr>\n",
       "      <th>2016-05-09</th>\n",
       "      <td>ETHUSD</td>\n",
       "      <td>12.00</td>\n",
       "      <td>12.00</td>\n",
       "      <td>9.36</td>\n",
       "      <td>9.98</td>\n",
       "      <td>1317.90</td>\n",
       "      <td>12885.06</td>\n",
       "    </tr>\n",
       "    <tr>\n",
       "      <th>2016-05-10</th>\n",
       "      <td>ETHUSD</td>\n",
       "      <td>9.98</td>\n",
       "      <td>9.98</td>\n",
       "      <td>9.36</td>\n",
       "      <td>9.68</td>\n",
       "      <td>672.06</td>\n",
       "      <td>6578.20</td>\n",
       "    </tr>\n",
       "    <tr>\n",
       "      <th>2016-05-11</th>\n",
       "      <td>ETHUSD</td>\n",
       "      <td>9.68</td>\n",
       "      <td>10.47</td>\n",
       "      <td>9.68</td>\n",
       "      <td>10.43</td>\n",
       "      <td>3052.51</td>\n",
       "      <td>30978.11</td>\n",
       "    </tr>\n",
       "  </tbody>\n",
       "</table>\n",
       "</div>"
      ],
      "text/plain": [
       "            Symbol   Open   High   Low  Close  Volume ETH  Volume USD\n",
       "Date                                                                 \n",
       "2016-05-09  ETHUSD  12.00  12.00  9.36   9.98     1317.90    12885.06\n",
       "2016-05-10  ETHUSD   9.98   9.98  9.36   9.68      672.06     6578.20\n",
       "2016-05-11  ETHUSD   9.68  10.47  9.68  10.43     3052.51    30978.11"
      ]
     },
     "execution_count": 114,
     "metadata": {},
     "output_type": "execute_result"
    }
   ],
   "source": [
    "eth = pd.read_csv('data/ETH_day.csv', parse_dates=['Date'], index_col='Date')\n",
    "eth = eth.sort_index()\n",
    "eth.head(3)"
   ]
  },
  {
   "cell_type": "code",
   "execution_count": 118,
   "metadata": {},
   "outputs": [
    {
     "data": {
      "text/html": [
       "<div>\n",
       "<style scoped>\n",
       "    .dataframe tbody tr th:only-of-type {\n",
       "        vertical-align: middle;\n",
       "    }\n",
       "\n",
       "    .dataframe tbody tr th {\n",
       "        vertical-align: top;\n",
       "    }\n",
       "\n",
       "    .dataframe thead th {\n",
       "        text-align: right;\n",
       "    }\n",
       "</style>\n",
       "<table border=\"1\" class=\"dataframe\">\n",
       "  <thead>\n",
       "    <tr style=\"text-align: right;\">\n",
       "      <th></th>\n",
       "      <th>Symbol</th>\n",
       "      <th>Open</th>\n",
       "      <th>High</th>\n",
       "      <th>Low</th>\n",
       "      <th>Close</th>\n",
       "      <th>Volume ETH</th>\n",
       "      <th>Volume USD</th>\n",
       "    </tr>\n",
       "    <tr>\n",
       "      <th>Date</th>\n",
       "      <th></th>\n",
       "      <th></th>\n",
       "      <th></th>\n",
       "      <th></th>\n",
       "      <th></th>\n",
       "      <th></th>\n",
       "      <th></th>\n",
       "    </tr>\n",
       "  </thead>\n",
       "  <tbody>\n",
       "    <tr>\n",
       "      <th>2017-06-21</th>\n",
       "      <td>ETHUSD</td>\n",
       "      <td>350.00</td>\n",
       "      <td>352.00</td>\n",
       "      <td>280.00</td>\n",
       "      <td>324.29</td>\n",
       "      <td>176262.61</td>\n",
       "      <td>55589221.40</td>\n",
       "    </tr>\n",
       "    <tr>\n",
       "      <th>2017-06-22</th>\n",
       "      <td>ETHUSD</td>\n",
       "      <td>324.29</td>\n",
       "      <td>333.64</td>\n",
       "      <td>307.52</td>\n",
       "      <td>319.68</td>\n",
       "      <td>100754.93</td>\n",
       "      <td>32292488.51</td>\n",
       "    </tr>\n",
       "    <tr>\n",
       "      <th>2017-06-23</th>\n",
       "      <td>ETHUSD</td>\n",
       "      <td>319.68</td>\n",
       "      <td>330.53</td>\n",
       "      <td>319.39</td>\n",
       "      <td>326.75</td>\n",
       "      <td>62030.87</td>\n",
       "      <td>20181582.02</td>\n",
       "    </tr>\n",
       "    <tr>\n",
       "      <th>2017-06-24</th>\n",
       "      <td>ETHUSD</td>\n",
       "      <td>326.75</td>\n",
       "      <td>330.86</td>\n",
       "      <td>300.01</td>\n",
       "      <td>304.80</td>\n",
       "      <td>63424.40</td>\n",
       "      <td>20088764.28</td>\n",
       "    </tr>\n",
       "    <tr>\n",
       "      <th>2017-06-25</th>\n",
       "      <td>ETHUSD</td>\n",
       "      <td>304.80</td>\n",
       "      <td>310.00</td>\n",
       "      <td>251.49</td>\n",
       "      <td>278.73</td>\n",
       "      <td>118213.95</td>\n",
       "      <td>33404287.14</td>\n",
       "    </tr>\n",
       "    <tr>\n",
       "      <th>2017-06-26</th>\n",
       "      <td>ETHUSD</td>\n",
       "      <td>278.73</td>\n",
       "      <td>299.90</td>\n",
       "      <td>210.00</td>\n",
       "      <td>253.00</td>\n",
       "      <td>249076.24</td>\n",
       "      <td>60950252.99</td>\n",
       "    </tr>\n",
       "    <tr>\n",
       "      <th>2017-06-27</th>\n",
       "      <td>ETHUSD</td>\n",
       "      <td>253.00</td>\n",
       "      <td>288.17</td>\n",
       "      <td>210.02</td>\n",
       "      <td>286.21</td>\n",
       "      <td>173179.40</td>\n",
       "      <td>42085473.60</td>\n",
       "    </tr>\n",
       "    <tr>\n",
       "      <th>2017-06-28</th>\n",
       "      <td>ETHUSD</td>\n",
       "      <td>286.21</td>\n",
       "      <td>324.95</td>\n",
       "      <td>260.49</td>\n",
       "      <td>317.59</td>\n",
       "      <td>184030.56</td>\n",
       "      <td>54573461.77</td>\n",
       "    </tr>\n",
       "    <tr>\n",
       "      <th>2017-06-29</th>\n",
       "      <td>ETHUSD</td>\n",
       "      <td>317.59</td>\n",
       "      <td>322.84</td>\n",
       "      <td>285.23</td>\n",
       "      <td>293.80</td>\n",
       "      <td>152271.32</td>\n",
       "      <td>46521350.06</td>\n",
       "    </tr>\n",
       "    <tr>\n",
       "      <th>2017-06-30</th>\n",
       "      <td>ETHUSD</td>\n",
       "      <td>293.80</td>\n",
       "      <td>304.94</td>\n",
       "      <td>270.77</td>\n",
       "      <td>280.80</td>\n",
       "      <td>146545.22</td>\n",
       "      <td>42337469.59</td>\n",
       "    </tr>\n",
       "  </tbody>\n",
       "</table>\n",
       "</div>"
      ],
      "text/plain": [
       "            Symbol    Open    High     Low   Close  Volume ETH   Volume USD\n",
       "Date                                                                       \n",
       "2017-06-21  ETHUSD  350.00  352.00  280.00  324.29   176262.61  55589221.40\n",
       "2017-06-22  ETHUSD  324.29  333.64  307.52  319.68   100754.93  32292488.51\n",
       "2017-06-23  ETHUSD  319.68  330.53  319.39  326.75    62030.87  20181582.02\n",
       "2017-06-24  ETHUSD  326.75  330.86  300.01  304.80    63424.40  20088764.28\n",
       "2017-06-25  ETHUSD  304.80  310.00  251.49  278.73   118213.95  33404287.14\n",
       "2017-06-26  ETHUSD  278.73  299.90  210.00  253.00   249076.24  60950252.99\n",
       "2017-06-27  ETHUSD  253.00  288.17  210.02  286.21   173179.40  42085473.60\n",
       "2017-06-28  ETHUSD  286.21  324.95  260.49  317.59   184030.56  54573461.77\n",
       "2017-06-29  ETHUSD  317.59  322.84  285.23  293.80   152271.32  46521350.06\n",
       "2017-06-30  ETHUSD  293.80  304.94  270.77  280.80   146545.22  42337469.59"
      ]
     },
     "execution_count": 118,
     "metadata": {},
     "output_type": "execute_result"
    }
   ],
   "source": [
    "eth = eth.loc['2016-06-01':'2017-06-30']\n",
    "eth.tail(10)"
   ]
  },
  {
   "cell_type": "code",
   "execution_count": 130,
   "metadata": {},
   "outputs": [
    {
     "data": {
      "image/png": "[encoded data removed]",
      "text/plain": [
       "<Figure size 864x576 with 1 Axes>"
      ]
     },
     "metadata": {
      "needs_background": "light"
     },
     "output_type": "display_data"
    }
   ],
   "source": [
    "bit.loc['2016/06/01': '2017/06/30'].Open.rolling(5).mean().plot(label='Bit Coin',\n",
    "                                                                xlabel='Dates',\n",
    "                                                                ylabel='currency',\n",
    "                                                                figsize=(12,8), \n",
    "                                                                color='#f2a900')\n",
    "eth.loc['2016/06/01': '2017/06/30'].Open.rolling(5).mean().plot(xlabel='Dates',\n",
    "                                                                ylabel='currency',\n",
    "                                                                label='Ethurium',\n",
    "                                                                figsize=(12,8), \n",
    "                                                                color='#3c3c3d')\n",
    "plt.legend()\n",
    "plt.show()"
   ]
  }
 ],
 "metadata": {
  "kernelspec": {
   "display_name": "Python 3",
   "language": "python",
   "name": "python3"
  },
  "language_info": {
   "codemirror_mode": {
    "name": "ipython",
    "version": 3
   },
   "file_extension": ".py",
   "mimetype": "text/x-python",
   "name": "python",
   "nbconvert_exporter": "python",
   "pygments_lexer": "ipython3",
   "version": "3.9.4"
  }
 },
 "nbformat": 4,
 "nbformat_minor": 4
}
